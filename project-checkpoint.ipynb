{
 "cells": [
  {
   "cell_type": "code",
   "execution_count": 1,
   "metadata": {},
   "outputs": [],
   "source": [
    "import pandas as pd \n",
    "import numpy as np\n",
    "import os "
   ]
  },
  {
   "cell_type": "code",
   "execution_count": 2,
   "metadata": {},
   "outputs": [],
   "source": [
    "data_dir = 'bbc'\n",
    "classes = os.listdir(data_dir)\n",
    "total_files = []\n",
    "for i in classes:\n",
    "    total_files.append(len(os.listdir(os.path.join(data_dir, i))))"
   ]
  },
  {
   "cell_type": "code",
   "execution_count": 3,
   "metadata": {},
   "outputs": [
    {
     "name": "stdout",
     "output_type": "stream",
     "text": [
      "business: has 510 data files\n",
      "entertainment: has 386 data files\n",
      "politics: has 417 data files\n",
      "sport: has 511 data files\n",
      "tech: has 401 data files\n"
     ]
    }
   ],
   "source": [
    "for i in range(len(total_files)):\n",
    "    print(classes[i]+': has', total_files[i], 'data files')"
   ]
  },
  {
   "cell_type": "code",
   "execution_count": 4,
   "metadata": {},
   "outputs": [],
   "source": [
    "txt_data = []\n",
    "labels = []\n",
    "for i in classes:\n",
    "    for j in os.listdir(os.path.join('bbc', i)):\n",
    "        with open(os.path.join('bbc', i, j), 'r') as file:\n",
    "            # Read the contents of the file\n",
    "            file_contents = file.read()\n",
    "\n",
    "            # Now you can work with the contents of the file as needed\n",
    "            txt_data.append(file_contents)\n",
    "            labels.append(i)"
   ]
  },
  {
   "cell_type": "code",
   "execution_count": 5,
   "metadata": {},
   "outputs": [],
   "source": [
    "df = pd.DataFrame(data = np.array([txt_data, labels]).T, columns = ['news', 'label'])"
   ]
  },
  {
   "cell_type": "code",
   "execution_count": 6,
   "metadata": {},
   "outputs": [
    {
     "data": {
      "text/plain": [
       "(2225, 2)"
      ]
     },
     "execution_count": 6,
     "metadata": {},
     "output_type": "execute_result"
    }
   ],
   "source": [
    "df.shape"
   ]
  },
  {
   "cell_type": "code",
   "execution_count": 7,
   "metadata": {},
   "outputs": [
    {
     "data": {
      "text/html": [
       "<div>\n",
       "<style scoped>\n",
       "    .dataframe tbody tr th:only-of-type {\n",
       "        vertical-align: middle;\n",
       "    }\n",
       "\n",
       "    .dataframe tbody tr th {\n",
       "        vertical-align: top;\n",
       "    }\n",
       "\n",
       "    .dataframe thead th {\n",
       "        text-align: right;\n",
       "    }\n",
       "</style>\n",
       "<table border=\"1\" class=\"dataframe\">\n",
       "  <thead>\n",
       "    <tr style=\"text-align: right;\">\n",
       "      <th></th>\n",
       "      <th>news</th>\n",
       "      <th>label</th>\n",
       "    </tr>\n",
       "  </thead>\n",
       "  <tbody>\n",
       "    <tr>\n",
       "      <th>87</th>\n",
       "      <td>Metlife buys up Citigroup insurer\\n\\nUS bankin...</td>\n",
       "      <td>business</td>\n",
       "    </tr>\n",
       "    <tr>\n",
       "      <th>599</th>\n",
       "      <td>Berlin cheers for anti-Nazi film\\n\\nA German m...</td>\n",
       "      <td>entertainment</td>\n",
       "    </tr>\n",
       "    <tr>\n",
       "      <th>385</th>\n",
       "      <td>Krispy Kreme shares hit\\n\\nShares in Krispy Kr...</td>\n",
       "      <td>business</td>\n",
       "    </tr>\n",
       "    <tr>\n",
       "      <th>527</th>\n",
       "      <td>Versace art portfolio up for sale\\n\\nThe art c...</td>\n",
       "      <td>entertainment</td>\n",
       "    </tr>\n",
       "    <tr>\n",
       "      <th>1545</th>\n",
       "      <td>Redknapp poised for Saints\\n\\nSouthampton are ...</td>\n",
       "      <td>sport</td>\n",
       "    </tr>\n",
       "  </tbody>\n",
       "</table>\n",
       "</div>"
      ],
      "text/plain": [
       "                                                   news          label\n",
       "87    Metlife buys up Citigroup insurer\\n\\nUS bankin...       business\n",
       "599   Berlin cheers for anti-Nazi film\\n\\nA German m...  entertainment\n",
       "385   Krispy Kreme shares hit\\n\\nShares in Krispy Kr...       business\n",
       "527   Versace art portfolio up for sale\\n\\nThe art c...  entertainment\n",
       "1545  Redknapp poised for Saints\\n\\nSouthampton are ...          sport"
      ]
     },
     "execution_count": 7,
     "metadata": {},
     "output_type": "execute_result"
    }
   ],
   "source": [
    "df.sample(5)"
   ]
  },
  {
   "cell_type": "code",
   "execution_count": 8,
   "metadata": {},
   "outputs": [
    {
     "name": "stdout",
     "output_type": "stream",
     "text": [
      "1254 : politics\n",
      "Brown ally rejects Budget spree\n",
      "\n",
      "Chancellor Gordon Brown's closest ally has denied suggestions there will be a Budget giveaway on 16 March.\n",
      "\n",
      "Ed Balls, ex-chief economic adviser to the Treasury, said there would be no spending spree before polling day. But Mr Balls, a prospective Labour MP, said he was confident the chancellor would meet his fiscal rules. He was speaking as Sir Digby Jones, CBI director general, warned Mr Brown not to be tempted to use any extra cash on pre-election bribes.\n",
      "\n",
      "Mr Balls, who stepped down from his Treasury post to stand as a Labour candidate in the election, had suggested that Mr Brown would meet his golden economic rule - \"with a margin to spare\". He said he hoped more would be done to build on current tax credit rules.\n",
      "\n",
      "He also stressed rise in interest rates ahead of an expected May election would not affect the Labour Party's chances of winning. Expectations of a rate rise have gathered pace after figures showed house prices are still rising. Consumer borrowing rose at a near-record pace in January. \"If the MPC (the Bank of England's Monetary Policy Committee) were to judge that a rate rise was justified before the election because of the strength of the economy - and I'm not predicting that they will - I do not believe that this will be a big election issue in Britain for Labour,\" he told a Parliamentary lunch. \"This is a big change in our political culture.\"\n",
      "\n",
      "During an interview with BBC Radio 4's Today programme, Mr Balls said he was sure Mr Brown's Budget would not put at risk the stability of the economy. \"I don't think we'll see a pre-election spending spree - we certainly did not see that before 2001,\" he said.\n",
      "\n",
      "His assurances came after Sir Digby Jones said stability was all important and any extra cash should be spent on improving workers' skills. His message to the chancellor was: \"Please don't give it away in any form of electioneering.\" Sir Digby added: \"I don't think he will. I have to say he has been a prudent chancellor right the way through. Stability is the key word - British business needs boring stability more than anything. \"We would say to him 'don't increase your public spending, don't give it away. But if you are going to anywhere, just add something to the competitiveness of Britain, put it into skilling our people'. \"That would be a good way to spend any excess.\"\n",
      "\n",
      "Mr Balls refused to say whether Mr Brown would remain as chancellor after the election, amid speculation he will be offered the job of Foreign Secretary. \"I think that Gordon Brown wants to be part of the successful Labour government which delivers in the third term for the priorities of the people and sees off a Conservative Party that will take Britain backwards,\" Mr Balls told Today. Prime Minister Tony Blair has yet to name the date of the election, but most pundits are betting on 5 May.\n",
      "\n"
     ]
    }
   ],
   "source": [
    "x = np.random.randint(0, df.shape[0])\n",
    "print(x ,':', df['label'][x])\n",
    "print(df['news'][x])"
   ]
  },
  {
   "cell_type": "code",
   "execution_count": null,
   "metadata": {},
   "outputs": [],
   "source": [
    "import nltk\n",
    "# df['word_count'] =\n",
    "df['text'].apply(lambda x:nltk.tok)"
   ]
  }
 ],
 "metadata": {
  "kernelspec": {
   "display_name": "Python 3 (ipykernel)",
   "language": "python",
   "name": "python3"
  },
  "language_info": {
   "codemirror_mode": {
    "name": "ipython",
    "version": 3
   },
   "file_extension": ".py",
   "mimetype": "text/x-python",
   "name": "python",
   "nbconvert_exporter": "python",
   "pygments_lexer": "ipython3",
   "version": "3.11.4"
  }
 },
 "nbformat": 4,
 "nbformat_minor": 2
}
